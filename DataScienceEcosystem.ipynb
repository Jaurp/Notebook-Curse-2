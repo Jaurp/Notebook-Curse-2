{
 "cells": [
  {
   "cell_type": "markdown",
   "id": "85b01f34-1697-46b2-947e-e6ba369c25e8",
   "metadata": {},
   "source": [
    "# Data Science Tools and Ecosystem"
   ]
  },
  {
   "cell_type": "markdown",
   "id": "99ddf047-620b-4089-bb99-23e3feff0fcb",
   "metadata": {},
   "source": [
    "In this notebook, Data Science Tools and Ecosystem are summarized."
   ]
  },
  {
   "cell_type": "markdown",
   "id": "8f65f48e-d33f-4554-8ec8-3872eb1cb8c7",
   "metadata": {},
   "source": [
    "**Objectives:**\n",
    "- List of the most popular libraries in data science.\n",
    "- List of the most commonly used languages in data science.\n",
    "- Using Markdown cell.\n",
    "- Using code cell.\n",
    "- Table creation.\n",
    "\n"
   ]
  },
  {
   "cell_type": "markdown",
   "id": "88c14442-b690-445e-85c8-87bce17de96b",
   "metadata": {},
   "source": [
    "Some of the popular languages that Data Scientists use are:\n",
    "1. Python\n",
    "2. C++\n",
    "3. Java\n",
    "4. C\n",
    "5. R"
   ]
  },
  {
   "cell_type": "markdown",
   "id": "bfd96750-af15-44c3-b79c-a5340d9c70c7",
   "metadata": {},
   "source": [
    "Some of the commonly used libraries used by Data Scientists include:\n",
    "1. NumPy\n",
    "2. Pandas\n",
    "3. SciPy\n",
    "4. Scikit-learn\n",
    "5. TensorFlow\n",
    "6. Matplotlib\n",
    "7. Caret"
   ]
  },
  {
   "cell_type": "markdown",
   "id": "b94acee8-d341-4ed3-ad7b-3276c3f25105",
   "metadata": {},
   "source": [
    "|Data Science Tools|\n",
    "|------|\n",
    "|Jupyter|\n",
    "|RStudio|\n",
    "|VS Code|"
   ]
  },
  {
   "cell_type": "markdown",
   "id": "1763f626-a928-4ea6-a09f-4624a09cc7c2",
   "metadata": {},
   "source": [
    "### Below are a few examples of evaluating arithmetic expressions in Python\n"
   ]
  },
  {
   "cell_type": "code",
   "execution_count": 11,
   "id": "46d65b92-bf45-4ad2-9c88-52e0746697bf",
   "metadata": {},
   "outputs": [
    {
     "data": {
      "text/plain": [
       "17"
      ]
     },
     "execution_count": 11,
     "metadata": {},
     "output_type": "execute_result"
    }
   ],
   "source": [
    "# This a simple arithmetic expression to mutiply then add integers\n",
    "(3*4)+5"
   ]
  },
  {
   "cell_type": "code",
   "execution_count": 27,
   "id": "f2459580-4ddb-4f33-a6c5-eecbe5bd3a20",
   "metadata": {},
   "outputs": [
    {
     "name": "stdout",
     "output_type": "stream",
     "text": [
      "200 minutes are 3.3333333333333335 hours\n"
     ]
    }
   ],
   "source": [
    "# This will convert 200 minutes to hours by diving by 60\n",
    "print (\"200 minutes are\", 200/60, \"hours\")\n"
   ]
  },
  {
   "cell_type": "markdown",
   "id": "00fccbbc-e733-48bf-abd9-c15a6ca5afce",
   "metadata": {},
   "source": [
    "## Author\n",
    "Jeniffer Urrego"
   ]
  },
  {
   "cell_type": "code",
   "execution_count": null,
   "id": "42aaace7-87db-4187-9718-31a6b328db0a",
   "metadata": {},
   "outputs": [],
   "source": []
  }
 ],
 "metadata": {
  "kernelspec": {
   "display_name": "Python 3 (ipykernel)",
   "language": "python",
   "name": "python3"
  },
  "language_info": {
   "codemirror_mode": {
    "name": "ipython",
    "version": 3
   },
   "file_extension": ".py",
   "mimetype": "text/x-python",
   "name": "python",
   "nbconvert_exporter": "python",
   "pygments_lexer": "ipython3",
   "version": "3.12.7"
  }
 },
 "nbformat": 4,
 "nbformat_minor": 5
}
